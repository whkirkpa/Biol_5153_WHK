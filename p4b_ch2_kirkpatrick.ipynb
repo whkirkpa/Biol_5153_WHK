{
 "cells": [
  {
   "cell_type": "code",
   "execution_count": 32,
   "metadata": {},
   "outputs": [
    {
     "name": "stdout",
     "output_type": "stream",
     "text": [
      "Number of A's:16\n",
      "Number of T's:21\n",
      "Sequence Length:54\n",
      "AT content: 0.6851851851851852\n"
     ]
    }
   ],
   "source": [
    "#Exercizes\n",
    "#Calculating AT content\n",
    "\n",
    "my_dna1 = \"ACTGATCGATTACGTATAGTATTTGCTATCATACATATATATCGATGCGTTCAT\"\n",
    "\n",
    "length = len(my_dna1)\n",
    "\n",
    "a_count = my_dna1.count(\"A\") #Count A's\n",
    "\n",
    "t_count = my_dna1.count(\"T\") #Count T's\n",
    "\n",
    "\n",
    "print(\"Number of A's:\" + str(a_count))\n",
    "print(\"Number of T's:\" + str(t_count))\n",
    "print(\"Sequence Length:\" + str(length))\n",
    "\n",
    "at_cont = (a_count + t_count)/length\n",
    "print(\"AT content: \" +str(at_cont))\n"
   ]
  },
  {
   "cell_type": "code",
   "execution_count": 38,
   "metadata": {},
   "outputs": [
    {
     "name": "stdout",
     "output_type": "stream",
     "text": [
      "TGACTAGCTAATGCATATCATAAACGATAGTATGTATATATAGCTACGCAAGTA\n"
     ]
    }
   ],
   "source": [
    "#Complementing DNA\n",
    "\n",
    "my_dna2 = \"ACTGATCGATTACGTATAGTATTTGCTATCATACATATATATCGATGCGTTCAT\"\n",
    "\n",
    "dna_A_fix = my_dna2.replace(\"A\", \"t\")\n",
    "dna_G_fix = dna_A_fix.replace(\"G\", \"c\")\n",
    "dna_T_fix = dna_G_fix.replace(\"T\", \"a\")\n",
    "dna_C_fix = dna_T_fix.replace(\"C\", \"g\")\n",
    "new_dna = dna_C_fix.upper()\n",
    "print(new_dna)"
   ]
  },
  {
   "cell_type": "code",
   "execution_count": 46,
   "metadata": {},
   "outputs": [
    {
     "name": "stdout",
     "output_type": "stream",
     "text": [
      "Length of 1st frag:22\n",
      "Length of 2nd frag:33\n"
     ]
    }
   ],
   "source": [
    "#Restriction Fragment Lengths\n",
    "\n",
    "my_dna3 = \"ACTGATCGATTACGTATAGTAGAATTCTATCATACATATATATCGATGCGTTCAT\"\n",
    "\n",
    "length_3 = len(my_dna3)\n",
    "\n",
    "position_cut = my_dna3.find(\"G\"+\"AATTC\")\n",
    "len_1st_seq = position_cut + 1\n",
    "\n",
    "len_2nd_seq = length_3 - len_1st_seq\n",
    "\n",
    "print(\"Length of 1st frag:\" + str(len_1st_seq))\n",
    "print(\"Length of 2nd frag:\" + str(len_2nd_seq))"
   ]
  },
  {
   "cell_type": "code",
   "execution_count": 67,
   "metadata": {},
   "outputs": [
    {
     "name": "stdout",
     "output_type": "stream",
     "text": [
      "ATCGATCGATCGATCGACTGACTAGTCATAGCTATGCATGTAGCTACTCGATCGATCGATCGATCATCGATCGATATCGATGCATCGACTACTAT\n"
     ]
    }
   ],
   "source": [
    "#Splicing out introns, pt. 1\n",
    "\n",
    "my_dna4 = \"ATCGATCGATCGATCGACTGACTAGTCATAGCTATGCATGTAGCTACTCGATCGATCGATCGATCGATCGATCGATCGATCGATCATGCTATCATCGATCGATATCGATGCATCGACTACTAT\"\n",
    "\n",
    "exon1 = my_dna4[0:62]\n",
    "intron = my_dna4[62:90] #The bad part...I think\n",
    "exon2 = my_dna4[90:1000]\n",
    "\n",
    "print(exon1 + exon2)"
   ]
  },
  {
   "cell_type": "code",
   "execution_count": 68,
   "metadata": {},
   "outputs": [
    {
     "name": "stdout",
     "output_type": "stream",
     "text": [
      "77.23577235772358\n"
     ]
    }
   ],
   "source": [
    "#Splicing out introns, pt. 2\n",
    "\n",
    "len_coding = len(exon1) + len(exon2)\n",
    "len_og = len(my_dna4)\n",
    "coding_pct = len_coding / len_og\n",
    "print(coding_pct * 100)"
   ]
  },
  {
   "cell_type": "code",
   "execution_count": 69,
   "metadata": {},
   "outputs": [
    {
     "name": "stdout",
     "output_type": "stream",
     "text": [
      "ATCGATCGATCGATCGACTGACTAGTCATAGCTATGCATGTAGCTACTCGATCGATCGATCGatcgatcgatcgatcgatcgatcatgctATCATCGATCGATATCGATGCATCGACTACTAT\n"
     ]
    }
   ],
   "source": [
    "#Splicing out introns, pt. 3\n",
    "\n",
    "intron_low = intron.lower()\n",
    "\n",
    "print(exon1 + intron_low + exon2)"
   ]
  },
  {
   "cell_type": "code",
   "execution_count": null,
   "metadata": {},
   "outputs": [],
   "source": []
  }
 ],
 "metadata": {
  "kernelspec": {
   "display_name": "Python 3",
   "language": "python",
   "name": "python3"
  },
  "language_info": {
   "codemirror_mode": {
    "name": "ipython",
    "version": 3
   },
   "file_extension": ".py",
   "mimetype": "text/x-python",
   "name": "python",
   "nbconvert_exporter": "python",
   "pygments_lexer": "ipython3",
   "version": "3.7.4"
  }
 },
 "nbformat": 4,
 "nbformat_minor": 2
}
