{
 "cells": [
  {
   "cell_type": "code",
   "execution_count": 1,
   "metadata": {},
   "outputs": [
    {
     "name": "stdout",
     "output_type": "stream",
     "text": [
      "Exons:ATCGATCGATCGATCGACTGACTAGTCATAGCTATGCATGTAGCTACTCGATCGATCGATCGATCATCGATCGATATCGATGCATCGACTACTAT\n",
      "Intron:TCGATCGATCGATCGATCGATCATGC\n"
     ]
    }
   ],
   "source": [
    "#Ch. 3 Exersices \n",
    "\n",
    "#Splitting genomic DNA\n",
    "\n",
    "#Create and read dna file\n",
    "genomic_dna = open(\"genomic_dna.txt\", \"w\")\n",
    "genomic_dna.write(\"ATCGATCGATCGATCGACTGACTAGTCATAGCTATGCATGTAGCTACTCGATCGATCGATCGATCGATCGATCGATCGATCGATCATGCTATCATCGATCGATATCGATGCATCGACTACTAT\")\n",
    "\n",
    "genomic_dna = open(\"genomic_dna.txt\")\n",
    "genomic_dna = genomic_dna.read()#Read in data\n",
    "\n",
    "#Manually separate exons and intron\n",
    "genomic_exon1 = genomic_dna[0:62]\n",
    "genomic_intron1 = genomic_dna[63:89]\n",
    "genomic_exon2 = genomic_dna[90:200]\n",
    "\n",
    "#Create int/ex files\n",
    "genomic_exon = open(\"genomic_exon.txt\", \"w\")\n",
    "genomic_intron = open(\"genomic_intron.txt\", \"w\")\n",
    "genomic_exon.write(genomic_exon1 + genomic_exon2)\n",
    "genomic_intron.write(genomic_intron1)\n",
    "\n",
    "#Open and read int/ex files\n",
    "genomic_exon = open(\"genomic_exon.txt\")\n",
    "genomic_intron = open(\"genomic_intron.txt\")\n",
    "genomic_exon = genomic_exon.read()\n",
    "genomic_intron = genomic_intron.read()\n",
    "\n",
    "#Print files\n",
    "print(\"Exons:\" + genomic_exon)\n",
    "print(\"Intron:\" + genomic_intron)"
   ]
  },
  {
   "cell_type": "code",
   "execution_count": 2,
   "metadata": {},
   "outputs": [
    {
     "name": "stdout",
     "output_type": "stream",
     "text": [
      ">ABC123\n",
      "ATCGTACGATCGATCGATCGCTAGACGTATCG\n",
      ">DEF456\n",
      "ACTGATCGACGATCGATCGATCACGACT\n",
      ">HIJ789\n",
      "ACTGACACTGTACTGTACATGTG\n",
      ">ABC123\n",
      "ATCGTACGATCGATCGATCGCTAGACGTATCG\n",
      ">DEF456\n",
      "ACTGATCGACGATCGATCGATCACGACT\n",
      ">HIJ789\n",
      "ACTGACACTGTACTGTACATGTG\n"
     ]
    }
   ],
   "source": [
    "#Writing a FASTA file\n",
    "\n",
    "#Create ABC file\n",
    "ABC123_fasta = open(\"ABC123.fasta\", \"w\")\n",
    "ABC123_fasta.write(\">ABC123\\n\" + \"ATCGTACGATCGATCGATCGCTAGACGTATCG\")\n",
    "ABC123_fasta = open(\"ABC123.fasta\")\n",
    "ABC123_fasta = ABC123_fasta.read()\n",
    "print(ABC123_fasta)\n",
    "\n",
    "#Create DEF456 FASTA file\n",
    "DEF456 = \"actgatcgacgatcgatcgatcacgact\"\n",
    "DEF456 = DEF456.upper()\n",
    "DEF456_fasta = open(\"DEF456.fasta\", \"w\")\n",
    "DEF456_fasta.write(\">DEF456\\n\" + DEF456)\n",
    "DEF456_fasta = open(\"DEF456.fasta\")\n",
    "DEF456_fasta = DEF456_fasta.read()\n",
    "print(DEF456_fasta)\n",
    "\n",
    "#Create HIJ789 FASTA file\n",
    "HIJ789 = \"ACTGAC-ACTGT--ACTGTA----CATGTG\"\n",
    "HIJ789 = HIJ789.replace(\"-\", \"\")\n",
    "HIJ789_fasta = open(\"HIJ789.fasta\", \"w\")\n",
    "HIJ789_fasta.write(\">HIJ789\\n\" + HIJ789)\n",
    "HIJ789_fasta = open(\"HIJ789.fasta\")\n",
    "HIJ789_fasta = HIJ789_fasta.read()\n",
    "print(HIJ789_fasta)\n",
    "\n",
    "#Combine into one file\n",
    "combined_fasta = open(\"combined.fasta\", \"w\")\n",
    "combined_fasta.write(\">ABC123\\n\" + \"ATCGTACGATCGATCGATCGCTAGACGTATCG\\n\" + \">DEF456\\n\" + DEF456 + \"\\n\" + \">HIJ789\\n\" + HIJ789)\n",
    "combined_fasta = open(\"combined.fasta\")\n",
    "comb_fasta = combined_fasta.read()\n",
    "print(comb_fasta)"
   ]
  },
  {
   "cell_type": "code",
   "execution_count": 3,
   "metadata": {},
   "outputs": [
    {
     "name": "stdout",
     "output_type": "stream",
     "text": [
      ">ABC123\n",
      "ATCGTACGATCGATCGATCGCTAGACGTATCG\n",
      ">DEF456\n",
      "ACTGATCGACGATCGATCGATCACGACT\n",
      ">HIJ789\n",
      "ACTGACACTGTACTGTACATGTG\n"
     ]
    }
   ],
   "source": [
    "#Writing multiple FASTA files\n",
    "\n",
    "#ABC123 FASTA file\n",
    "ABC123_fasta = open(\"ABC123.fasta\", \"w\")\n",
    "ABC123_fasta.write(\">ABC123\\n\" + \"ATCGTACGATCGATCGATCGCTAGACGTATCG\")\n",
    "ABC123_fasta = open(\"ABC123.fasta\")\n",
    "ABC123 = ABC123_fasta.read()\n",
    "print(ABC123)\n",
    "\n",
    "#DEF456 FASTA file\n",
    "DEF456 = \"actgatcgacgatcgatcgatcacgact\"\n",
    "DEF456 = DEF456.upper()\n",
    "DEF456_fasta = open(\"DEF456.fasta\", \"w\")\n",
    "DEF456_fasta.write(\">DEF456\\n\" + DEF456)\n",
    "DEF456_fasta = open(\"DEF456.fasta\")\n",
    "DEF456 = DEF456_fasta.read()\n",
    "print(DEF456)\n",
    "\n",
    "#HIJ789 FASTA file\n",
    "HIJ789 = \"ACTGAC-ACTGT--ACTGTA----CATGTG\"\n",
    "HIJ789 = HIJ789.replace(\"-\", \"\")\n",
    "HIJ789_fasta = open(\"HIJ789.fasta\", \"w\")\n",
    "HIJ789_fasta.write(\">HIJ789\\n\" + HIJ789)\n",
    "HIJ789_fasta = open(\"HIJ789.fasta\")\n",
    "HIJ789 = HIJ789_fasta.read()\n",
    "print(HIJ789)"
   ]
  },
  {
   "cell_type": "code",
   "execution_count": null,
   "metadata": {},
   "outputs": [],
   "source": []
  }
 ],
 "metadata": {
  "kernelspec": {
   "display_name": "Python 3",
   "language": "python",
   "name": "python3"
  },
  "language_info": {
   "codemirror_mode": {
    "name": "ipython",
    "version": 3
   },
   "file_extension": ".py",
   "mimetype": "text/x-python",
   "name": "python",
   "nbconvert_exporter": "python",
   "pygments_lexer": "ipython3",
   "version": "3.7.4"
  }
 },
 "nbformat": 4,
 "nbformat_minor": 2
}
