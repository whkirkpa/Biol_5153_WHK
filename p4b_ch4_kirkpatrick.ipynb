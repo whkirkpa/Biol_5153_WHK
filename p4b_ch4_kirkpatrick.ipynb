{
 "cells": [
  {
   "cell_type": "code",
   "execution_count": 20,
   "metadata": {},
   "outputs": [
    {
     "name": "stdout",
     "output_type": "stream",
     "text": [
      "Processed sequence w/ length: 43\n",
      "Processed sequence w/ length: 38\n",
      "Processed sequence w/ length: 49\n",
      "Processed sequence w/ length: 34\n",
      "Processed sequence w/ length: 48\n"
     ]
    }
   ],
   "source": [
    "#Exercises\n",
    "\n",
    "#Processing DNA in a file\n",
    "\n",
    "inp = open(\"input.txt\")\n",
    "\n",
    "out_WHK = open(\"cut_DNA.txt\", \"w\")\n",
    "\n",
    "for dna in inp: \n",
    "    end = len(dna)\n",
    "    cut = dna[14:end]\n",
    "    out_WHK.write(cut)\n",
    "    print(\"Processed sequence w/ length: \" + str(len(cut)))\n"
   ]
  },
  {
   "cell_type": "code",
   "execution_count": 26,
   "metadata": {},
   "outputs": [
    {
     "name": "stdout",
     "output_type": "stream",
     "text": [
      "CGTACCGTCGACGATGCTACGATCGTCGATCGTAGTCGATCATCGATCGATCGCGATCGATCGATATCGATCGATATCATCGATGCATCGATCATCGATCGATCGATCGATCGACGATCGATCGATCGTAGCTAGCTAGCTAGATCGATCATCATCGTAGCTAGCTCGACTAGCTACGTACGATCGATGCATCGATCGTACGATCGATCGATCGATCGATCGATCGATCGATCGATCGATCGTAGCTAGCTACGATCG\n"
     ]
    }
   ],
   "source": [
    "#Multiple exons from genomic DNA\n",
    "\n",
    "#Open files\n",
    "g_dna = open(\"genomic_dna.txt\").read()\n",
    "exons = open(\"exons.txt\")\n",
    "\n",
    "#Create Variable \n",
    "WHK_codseq = \"\"\n",
    "\n",
    "# go through each line in the exon locations file \n",
    "for line in exons:\n",
    "    pos = line.split(',') #Split line \",\" \n",
    "    start = int(pos[0])\n",
    "    stop = int(pos[1])\n",
    "    exon = g_dna[start:stop] #Extract exon \n",
    "    WHK_codseq = WHK_codseq + exon #Append\n",
    "\n",
    "#Write to new file\n",
    "output = open(\"WHK_codseq.txt\", \"w\") \n",
    "output.write(WHK_codseq)\n",
    "output.close()\n",
    "\n",
    "#See if it worked \n",
    "out = open(\"WHK_codseq.txt\")\n",
    "for dna in out:\n",
    "    print(dna)"
   ]
  },
  {
   "cell_type": "code",
   "execution_count": null,
   "metadata": {},
   "outputs": [],
   "source": []
  }
 ],
 "metadata": {
  "kernelspec": {
   "display_name": "Python 3",
   "language": "python",
   "name": "python3"
  },
  "language_info": {
   "codemirror_mode": {
    "name": "ipython",
    "version": 3
   },
   "file_extension": ".py",
   "mimetype": "text/x-python",
   "name": "python",
   "nbconvert_exporter": "python",
   "pygments_lexer": "ipython3",
   "version": "3.7.4"
  }
 },
 "nbformat": 4,
 "nbformat_minor": 2
}
