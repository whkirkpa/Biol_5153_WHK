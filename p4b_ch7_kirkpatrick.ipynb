{
 "cells": [
  {
   "cell_type": "code",
   "execution_count": 5,
   "metadata": {},
   "outputs": [],
   "source": [
    "#Ch. 7 Exercises\n",
    "#Accession Names\n",
    "\n",
    "#Need to import module re\n",
    "import re\n",
    "\n",
    "names = [\"xkn59438\", \"yhdck2\", \"eihd39d9\", \"chdsye847\", \"hedle3455\", \"xjhd53e\", \"45da\", \"de37dp\"]"
   ]
  },
  {
   "cell_type": "code",
   "execution_count": 6,
   "metadata": {},
   "outputs": [
    {
     "name": "stdout",
     "output_type": "stream",
     "text": [
      "\txkn59438\n",
      "\thedle3455\n",
      "\txjhd53e\n",
      "\t45da\n"
     ]
    }
   ],
   "source": [
    "#contain the number 5\n",
    "for name in names:\n",
    "    # print if it passes the test\n",
    "    if re.search(r\"5\", name):\n",
    "        print(\"\\t\" + name)"
   ]
  },
  {
   "cell_type": "code",
   "execution_count": 9,
   "metadata": {},
   "outputs": [
    {
     "name": "stdout",
     "output_type": "stream",
     "text": [
      "\tyhdck2\n",
      "\teihd39d9\n",
      "\tchdsye847\n",
      "\thedle3455\n",
      "\txjhd53e\n",
      "\t45da\n",
      "\tde37dp\n"
     ]
    }
   ],
   "source": [
    "#contain the letter d or e\n",
    "for name in names:\n",
    "    if re.search(r\"(d|e)\", name):\n",
    "        print(\"\\t\" + name)"
   ]
  },
  {
   "cell_type": "code",
   "execution_count": 10,
   "metadata": {},
   "outputs": [
    {
     "name": "stdout",
     "output_type": "stream",
     "text": [
      "\tchdsye847\n",
      "\thedle3455\n",
      "\txjhd53e\n",
      "\tde37dp\n"
     ]
    }
   ],
   "source": [
    "#contain the letters d and e in that order\n",
    "for name in names:\n",
    "    if re.search(r\"d.*e\", name):\n",
    "        print(\"\\t\" + name)"
   ]
  },
  {
   "cell_type": "code",
   "execution_count": 11,
   "metadata": {},
   "outputs": [
    {
     "name": "stdout",
     "output_type": "stream",
     "text": [
      "\thedle3455\n"
     ]
    }
   ],
   "source": [
    "#contain the letters d and e in that order with a single letter between them\n",
    "for name in names:\n",
    "    if re.search(r\"(d.e)\", name):\n",
    "        print(\"\\t\" + name)"
   ]
  },
  {
   "cell_type": "code",
   "execution_count": 12,
   "metadata": {},
   "outputs": [
    {
     "name": "stdout",
     "output_type": "stream",
     "text": [
      "\teihd39d9\n",
      "\tchdsye847\n",
      "\thedle3455\n",
      "\txjhd53e\n",
      "\tde37dp\n"
     ]
    }
   ],
   "source": [
    "#contain both the letters d and e in any order\n",
    "for name in names:\n",
    "    if re.search(r\"d.*e\", name) or re.search(r\"e.*d\", name):\n",
    "        print(\"\\t\" + name)"
   ]
  },
  {
   "cell_type": "code",
   "execution_count": 13,
   "metadata": {},
   "outputs": [
    {
     "name": "stdout",
     "output_type": "stream",
     "text": [
      "\txkn59438\n",
      "\tyhdck2\n",
      "\txjhd53e\n"
     ]
    }
   ],
   "source": [
    "#start with x or y\n",
    "for name in names:\n",
    "    if re.search(r\"^(x|y)\", name):\n",
    "        print(\"\\t\" + name)"
   ]
  },
  {
   "cell_type": "code",
   "execution_count": 14,
   "metadata": {},
   "outputs": [
    {
     "name": "stdout",
     "output_type": "stream",
     "text": [
      "\txjhd53e\n"
     ]
    }
   ],
   "source": [
    "#start with x or y and end with e\n",
    "for name in names:\n",
    "    if re.search(r\"^(x|y).*e$\", name):\n",
    "        print(\"\\t\" + name)"
   ]
  },
  {
   "cell_type": "code",
   "execution_count": 15,
   "metadata": {},
   "outputs": [
    {
     "name": "stdout",
     "output_type": "stream",
     "text": [
      "\txkn59438\n",
      "\tchdsye847\n",
      "\thedle3455\n"
     ]
    }
   ],
   "source": [
    "#contain three or more numbers in a row\n",
    "for name in names:\n",
    "    if re.search(r\"[0123456789]{3,100}\", name):\n",
    "        print(\"\\t\" + name)"
   ]
  },
  {
   "cell_type": "code",
   "execution_count": 17,
   "metadata": {},
   "outputs": [
    {
     "name": "stdout",
     "output_type": "stream",
     "text": [
      "\t45da\n",
      "\tde37dp\n"
     ]
    }
   ],
   "source": [
    "#end with d followed by either a, r or p\n",
    "for name in names:\n",
    "    if re.search(r\"d[arp]$\", name):\n",
    "        print(\"\\t\" + name)\n"
   ]
  },
  {
   "cell_type": "code",
   "execution_count": 22,
   "metadata": {},
   "outputs": [
    {
     "name": "stdout",
     "output_type": "stream",
     "text": [
      "2012\n",
      "[0, 488, 1143, 1577, 1628, 2012]\n",
      "Fragment size is 488\n",
      "Fragment size is 655\n",
      "Fragment size is 434\n",
      "Fragment size is 51\n",
      "Fragment size is 384\n"
     ]
    }
   ],
   "source": [
    "#Double Digest\n",
    "\n",
    "import re\n",
    "data = open(\"dna.txt\").read().rstrip(\"\\n\") \n",
    "print(str(len(data)))\n",
    "cuts = [0]\n",
    "\n",
    "#Add cut positions AbcI\n",
    "for match in re.finditer(r\"A[ATGC]TAAT\", data):\n",
    "    cuts.append(match.start() + 3)\n",
    "\n",
    "#Append cut positions AbcII\n",
    "for match in re.finditer(r\"GC[AG][AT]TG\", data):\n",
    "    cuts.append(match.start() + 4)\n",
    "\n",
    "#Add final position \n",
    "cuts.append(len(data)) \n",
    "cuts_arranged = sorted(cuts) \n",
    "print(cuts_arranged)\n",
    "\n",
    "\n",
    "\n",
    "\n",
    "for i in range(1,len(cuts_arranged)):\n",
    "    this_cut_position = cuts_arranged[i]\n",
    "    previous_cut_position = cuts_arranged[i-1]\n",
    "    fragment_size = this_cut_position - previous_cut_position \n",
    "    print(\"Fragment size is \" + str(fragment_size))"
   ]
  },
  {
   "cell_type": "code",
   "execution_count": null,
   "metadata": {},
   "outputs": [],
   "source": []
  }
 ],
 "metadata": {
  "kernelspec": {
   "display_name": "Python 3",
   "language": "python",
   "name": "python3"
  },
  "language_info": {
   "codemirror_mode": {
    "name": "ipython",
    "version": 3
   },
   "file_extension": ".py",
   "mimetype": "text/x-python",
   "name": "python",
   "nbconvert_exporter": "python",
   "pygments_lexer": "ipython3",
   "version": "3.7.4"
  }
 },
 "nbformat": 4,
 "nbformat_minor": 2
}
